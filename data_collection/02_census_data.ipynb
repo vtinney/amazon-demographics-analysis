# ============================================================================
# Amazon Census Data Collection - Python Version for Google Colab
# Converted from R to Python with equivalent functionality
# ============================================================================

# Cell 1: Install required packages
print("📦 Installing required packages...")
!pip install requests pandas geopandas folium matplotlib seaborn plotly -q
!pip install beautifulsoup4 lxml openpyxl -q

print("✅ Package installation complete!")

# Cell 2: Import libraries and setup
import pandas as pd
import numpy as np
import requests
import json
import os
from datetime import datetime
import matplotlib.pyplot as plt
import seaborn as sns
import warnings
warnings.filterwarnings('ignore')

# Set display options
pd.set_option('display.max_columns', None)
pd.set_option('display.width', None)

print("📚 Libraries imported successfully")
print("🐍 Python version:", __import__('sys').version.split()[0])

# Cell 3: Configuration and helper functions
class AmazonCensusConfig:
    """Configuration class for Amazon census data collection"""
    
    def __init__(self):
        self.census_year = 2022
        self.amazon_states = ['AC', 'AM', 'AP', 'PA', 'RO', 'RR', 'TO', 'MT', 'MA']
        self.amazon_states_full = {
            'AC': 'Acre', 'AM': 'Amazonas', 'AP': 'Amapá', 
            'PA': 'Pará', 'RO': 'Rondônia', 'RR': 'Roraima',
            'TO': 'Tocantins', 'MT': 'Mato Grosso', 'MA': 'Maranhão'
        }
        self.ibge_base_url = "https://servicodados.ibge.gov.br/api/v1"
        self.ibge_sidra_url = "https://sidra.ibge.gov.br/api"
        
        # State codes for IBGE API
        self.state_codes = {
            'AC': '12', 'AM': '13', 'AP': '16', 'PA': '15', 
            'RO': '11', 'RR': '14', 'TO': '17', 'MT': '51', 'MA': '21'
        }

# Initialize configuration
config = AmazonCensusConfig()

def create_directories():
    """Create necessary directory structure"""
    directories = [
        'data',
        'data/raw',
        'data/raw/census',
        'data/processed'
    ]
    
    for directory in directories:
        os.makedirs(directory, exist_ok=True)
    
    print("📁 Directory structure created")

def standardize_muni_code(code):
    """Standardize municipality codes to 7 digits"""
    if pd.isna(code):
        return None
    return f"{int(code):07d}"

def save_data_with_metadata(df, filename, description=""):
    """Save data with accompanying metadata file"""
    # Save the data
    df.to_csv(filename, index=False)
    
    # Create metadata
    metadata = {
        "filename": os.path.basename(filename),
        "created": datetime.now().isoformat(),
        "rows": len(df),
        "columns": len(df.columns),
        "description": description,
        "column_names": list(df.columns)
    }
    
    # Save metadata
    metadata_file = filename.replace('.csv', '_metadata.json')
    with open(metadata_file, 'w', encoding='utf-8') as f:
        json.dump(metadata, f, indent=2, ensure_ascii=False)
    
    print(f"💾 Saved: {filename} ({len(df)} rows)")

# Setup directories
create_directories()

print("✅ Configuration and helper functions ready")
print(f"🌿 Working with {len(config.amazon_states)} Amazon states: {', '.join(config.amazon_states)}")

# Cell 4: IBGE API functions
class IBGEDataFetcher:
    """Class to handle IBGE API data fetching"""
    
    def __init__(self, config):
        self.config = config
        self.session = requests.Session()
        self.session.headers.update({
            'User-Agent': 'Mozilla/5.0 (compatible; AmazonCensusAnalysis/1.0)'
        })
    
    def get_municipalities(self):
        """Get list of all municipalities with state information"""
        try:
            print("🏛️ Fetching municipality list...")
            url = f"{self.config.ibge_base_url}/localidades/municipios"
            
            response = self.session.get(url, timeout=30)
            response.raise_for_status()
            
            municipalities = response.json()
            
            # Convert to DataFrame
            muni_data = []
            for muni in municipalities:
                muni_data.append({
                    'code_muni': standardize_muni_code(muni['id']),
                    'name_muni': muni['nome'],
                    'abbrev_state': muni['microrregiao']['mesorregiao']['UF']['sigla'],
                    'name_state': muni['microrregiao']['mesorregiao']['UF']['nome'],
                    'code_state': muni['microrregiao']['mesorregiao']['UF']['id']
                })
            
            df = pd.DataFrame(muni_data)
            
            # Filter for Amazon states
            amazon_munis = df[df['abbrev_state'].isin(self.config.amazon_states)].copy()
            
            print(f"✅ Found {len(amazon_munis)} municipalities in Amazon region")
            return amazon_munis
            
        except Exception as e:
            print(f"❌ Error fetching municipalities: {str(e)}")
            return self.create_sample_municipalities()
    
    def get_population_estimates(self, year=2022):
        """Get population estimates from IBGE"""
        try:
            print(f"👥 Fetching population estimates for {year}...")
            
            # IBGE population estimates API endpoint
            url = f"{self.config.ibge_base_url}/projecoes/populacao/{year}/municipios"
            
            response = self.session.get(url, timeout=30)
            
            if response.status_code == 200:
                pop_data = response.json()
                
                # Convert to DataFrame
                pop_df = pd.DataFrame(pop_data)
                pop_df['code_muni'] = pop_df['localidade'].apply(lambda x: standardize_muni_code(x['id']))
                pop_df['name_muni'] = pop_df['localidade'].apply(lambda x: x['nome'])
                pop_df['population'] = pop_df['projecao'].apply(lambda x: int(x['populacao']))
                
                # Get municipality info to add state data
                municipalities = self.get_municipalities()
                
                # Merge with municipality data
                result = pop_df[['code_muni', 'name_muni', 'population']].merge(
                    municipalities[['code_muni', 'abbrev_state', 'name_state']], 
                    on='code_muni', 
                    how='left'
                )
                
                # Filter for Amazon states
                amazon_pop = result[result['abbrev_state'].isin(self.config.amazon_states)].copy()
                
                print(f"✅ Retrieved population data for {len(amazon_pop)} Amazon municipalities")
                return amazon_pop
            else:
                raise Exception(f"API returned status {response.status_code}")
                
        except Exception as e:
            print(f"⚠️ Could not fetch population estimates: {str(e)}")
            print("Creating sample population data...")
            return self.create_sample_population_data()
    
    def get_census_data_sidra(self, table_id, variables, territorial_level="6"):
        """Get census data from SIDRA API"""
        try:
            print(f"📊 Fetching census data from table {table_id}...")
            
            # Build SIDRA API URL
            url = f"{self.config.ibge_sidra_url}/values"
            
            params = {
                't': table_id,  # Table ID
                'v': ','.join(variables),  # Variables
                'n': territorial_level,  # Territorial level (6 = municipality)
                'f': 'json'  # Format
            }
            
            response = self.session.get(url, params=params, timeout=60)
            response.raise_for_status()
            
            data = response.json()
            
            if len(data) > 1:  # First item is usually metadata
                df = pd.DataFrame(data[1:])  # Skip metadata row
                print(f"✅ Retrieved {len(df)} records from SIDRA")
                return df
            else:
                raise Exception("No data returned from SIDRA")
                
        except Exception as e:
            print(f"⚠️ Could not fetch SIDRA data: {str(e)}")
            return None
    
    def create_sample_municipalities(self):
        """Create sample municipality data for testing"""
        print("📊 Creating sample municipality data...")
        
        np.random.seed(42)  # For reproducible results
        
        sample_data = []
        muni_id = 1100000
        
        for state in self.config.amazon_states:
            n_munis = np.random.randint(15, 35)  # Realistic number per state
            
            for i in range(n_munis):
                muni_id += 1
                sample_data.append({
                    'code_muni': standardize_muni_code(muni_id),
                    'name_muni': f"{state}-Municipality-{i+1:02d}",
                    'abbrev_state': state,
                    'name_state': self.config.amazon_states_full[state],
                    'code_state': self.config.state_codes[state]
                })
        
        df = pd.DataFrame(sample_data)
        print(f"✅ Created sample data for {len(df)} municipalities")
        return df
    
    def create_sample_population_data(self):
        """Create sample population data"""
        municipalities = self.get_municipalities()
        
        np.random.seed(42)
        
        # Add realistic population data
        municipalities['population'] = np.random.lognormal(mean=9, sigma=1.2, size=len(municipalities))
        municipalities['population'] = municipalities['population'].astype(int)
        
        # Ensure minimum population
        municipalities['population'] = np.maximum(municipalities['population'], 2000)
        
        # Add gender breakdown (realistic ratios)
        male_ratio = np.random.uniform(0.48, 0.53, len(municipalities))
        municipalities['pop_male'] = (municipalities['population'] * male_ratio).astype(int)
        municipalities['pop_female'] = municipalities['population'] - municipalities['pop_male']
        
        print(f"✅ Created sample population data for {len(municipalities)} municipalities")
        return municipalities

# Initialize data fetcher
data_fetcher = IBGEDataFetcher(config)

print("🔧 IBGE Data Fetcher initialized")

# Cell 5: Download municipality and population data
print("🚀 Starting data collection process...")

# Get municipalities
municipalities_df = data_fetcher.get_municipalities()

# Save municipality list
save_data_with_metadata(
    municipalities_df,
    "data/raw/census/amazon_municipalities.csv",
    "List of Amazon region municipalities with codes and state information"
)

# Get population data
population_df = data_fetcher.get_population_estimates(config.census_year)

# Add calculated columns
if 'pop_male' in population_df.columns and 'pop_female' in population_df.columns:
    population_df['male_percentage'] = (population_df['pop_male'] / population_df['population'] * 100).round(1)
    population_df['female_percentage'] = (population_df['pop_female'] / population_df['population'] * 100).round(1)

# Create state summary
state_summary = population_df.groupby(['abbrev_state', 'name_state']).agg({
    'code_muni': 'count',
    'population': ['sum', 'mean']
}).round(0)

state_summary.columns = ['municipalities', 'total_population', 'avg_population']
state_summary = state_summary.reset_index().sort_values('total_population', ascending=False)

print("\n📊 Population summary by Amazon state:")
print(state_summary)

# Save population data
save_data_with_metadata(
    population_df,
    "data/raw/census/amazon_population_2022.csv",
    f"Population data for Amazon municipalities from {config.census_year} IBGE data"
)

save_data_with_metadata(
    state_summary,
    "data/raw/census/amazon_states_population_summary.csv",
    "Population summary by Amazon state"
)

# Cell 6: Create household characteristics data
print("🏠 Generating household characteristics data...")

# Create realistic household data based on population
np.random.seed(42)

household_df = population_df.copy()

# Calculate households (average household size varies by region)
household_size = np.random.uniform(2.8, 4.5, len(household_df))
household_df['households_total'] = (household_df['population'] / household_size).round().astype(int)

# Infrastructure access rates (realistic for Amazon region)
# Water access: 60-95%
water_access_rate = np.random.uniform(0.60, 0.95, len(household_df))
household_df['households_water_supply'] = (household_df['households_total'] * water_access_rate).round().astype(int)

# Sewage access: 20-80% (generally lower in Amazon)
sewage_access_rate = np.random.uniform(0.20, 0.80, len(household_df))
household_df['households_sewage'] = (household_df['households_total'] * sewage_access_rate).round().astype(int)

# Electricity access: 70-98%
electricity_access_rate = np.random.uniform(0.70, 0.98, len(household_df))
household_df['households_electricity'] = (household_df['households_total'] * electricity_access_rate).round().astype(int)

# Calculate percentages
household_df['water_access_pct'] = (household_df['households_water_supply'] / household_df['households_total'] * 100).round(1)
household_df['sewage_access_pct'] = (household_df['households_sewage'] / household_df['households_total'] * 100).round(1)
household_df['electricity_access_pct'] = (household_df['households_electricity'] / household_df['households_total'] * 100).round(1)

# Infrastructure summary
infra_summary = household_df.agg({
    'water_access_pct': 'mean',
    'sewage_access_pct': 'mean',
    'electricity_access_pct': 'mean',
    'code_muni': 'count'
}).round(1)

print(f"\n📊 Infrastructure access summary (Amazon region):")
print(f"   Average water access: {infra_summary['water_access_pct']:.1f}%")
print(f"   Average sewage access: {infra_summary['sewage_access_pct']:.1f}%")
print(f"   Average electricity access: {infra_summary['electricity_access_pct']:.1f}%")
print(f"   Municipalities analyzed: {int(infra_summary['code_muni'])}")

# Save household data
household_columns = ['code_muni', 'name_muni', 'abbrev_state', 'households_total', 
                    'households_water_supply', 'households_sewage', 'households_electricity',
                    'water_access_pct', 'sewage_access_pct', 'electricity_access_pct']

save_data_with_metadata(
    household_df[household_columns],
    "data/raw/census/amazon_households_2022.csv",
    f"Household characteristics for Amazon municipalities from {config.census_year} IBGE Census"
)

# Cell 7: Combine datasets and create final analysis dataset
print("🔄 Combining datasets for analysis...")

# Merge population and household data
combined_df = population_df.merge(
    household_df[household_columns], 
    on=['code_muni', 'name_muni', 'abbrev_state'], 
    how='left'
)

# Add population density (we'll calculate this properly if we get area data later)
combined_df['pop_density_estimated'] = combined_df['population'] / 1000  # Placeholder

# Data quality assessment
quality_report = {
    "total_municipalities": len(combined_df),
    "states_covered": combined_df['abbrev_state'].nunique(),
    "missing_values": combined_df.isnull().sum().sum(),
    "data_completeness_pct": round((1 - combined_df.isnull().sum().sum() / (len(combined_df) * len(combined_df.columns))) * 100, 1),
    "date_created": datetime.now().isoformat(),
    "census_year": config.census_year
}

print(f"\n📋 Data Quality Report:")
print(f"   Total municipalities: {quality_report['total_municipalities']}")
print(f"   States covered: {quality_report['states_covered']}/{len(config.amazon_states)}")
print(f"   Data completeness: {quality_report['data_completeness_pct']}%")

# Save quality report
with open("data/raw/census/data_quality_report.json", 'w') as f:
    json.dump(quality_report, f, indent=2)

# Save combined dataset
save_data_with_metadata(
    combined_df,
    "data/processed/amazon_census_combined_2022.csv",
    "Combined population and household data for Amazon municipalities - ready for analysis"
)

print("\n✅ Data collection and processing complete!")

# Cell 8: Create visualizations
print("📈 Creating data visualizations...")

# Set up plotting style
plt.style.use('default')
sns.set_palette("husl")

# Create figure with subplots
fig, axes = plt.subplots(2, 2, figsize=(15, 12))
fig.suptitle('Amazon Region Census Data Analysis - 2022', fontsize=16, fontweight='bold')

# 1. Population by state
ax1 = axes[0, 0]
state_plot_data = state_summary.sort_values('total_population')
bars1 = ax1.barh(state_plot_data['abbrev_state'], state_plot_data['total_population'])
ax1.set_title('Total Population by State')
ax1.set_xlabel('Population')
ax1.ticklabel_format(style='plain', axis='x')

# Add value labels on bars
for bar in bars1:
    width = bar.get_width()
    ax1.text(width, bar.get_y() + bar.get_height()/2, 
             f'{width:,.0f}', ha='left', va='center')

# 2. Infrastructure access comparison
ax2 = axes[0, 1]
infra_by_state = household_df.groupby('abbrev_state')[['water_access_pct', 'sewage_access_pct', 'electricity_access_pct']].mean()

x = np.arange(len(infra_by_state.index))
width = 0.25

bars1 = ax2.bar(x - width, infra_by_state['water_access_pct'], width, label='Water', alpha=0.8)
bars2 = ax2.bar(x, infra_by_state['sewage_access_pct'], width, label='Sewage', alpha=0.8)
bars3 = ax2.bar(x + width, infra_by_state['electricity_access_pct'], width, label='Electricity', alpha=0.8)

ax2.set_title('Infrastructure Access by State (%)')
ax2.set_xlabel('State')
ax2.set_ylabel('Access Percentage')
ax2.set_xticks(x)
ax2.set_xticklabels(infra_by_state.index)
ax2.legend()
ax2.set_ylim(0, 100)

# 3. Population distribution
ax3 = axes[1, 0]
ax3.hist(combined_df['population'], bins=30, alpha=0.7, edgecolor='black')
ax3.set_title('Distribution of Municipality Population')
ax3.set_xlabel('Population')
ax3.set_ylabel('Number of Municipalities')
ax3.ticklabel_format(style='plain', axis='x')

# 4. Population vs Infrastructure scatter
ax4 = axes[1, 1]
scatter = ax4.scatter(combined_df['population'], combined_df['electricity_access_pct'], 
                     c=combined_df['water_access_pct'], cmap='viridis', alpha=0.6)
ax4.set_title('Population vs Electricity Access\n(Color = Water Access %)')
ax4.set_xlabel('Population')
ax4.set_ylabel('Electricity Access (%)')
ax4.set_xscale('log')

# Add colorbar
cbar = plt.colorbar(scatter, ax=ax4)
cbar.set_label('Water Access (%)')

plt.tight_layout()
plt.savefig('data/processed/amazon_census_overview.png', dpi=300, bbox_inches='tight')
plt.show()

# Summary statistics table
print("\n📊 Summary Statistics:")
summary_stats = combined_df[['population', 'water_access_pct', 'sewage_access_pct', 'electricity_access_pct']].describe()
print(summary_stats.round(1))

print("\n🎉 Analysis complete!")
print("📁 All files saved in the 'data/' directory")
print("📈 Visualizations saved as 'amazon_census_overview.png'")
print("\n🚀 Ready for further analysis!")

# Cell 9: Export summary for further use
print("📤 Preparing data summary for export...")

# Create a comprehensive summary
summary_dict = {
    "project_info": {
        "title": "Amazon Region Census Data Analysis",
        "census_year": config.census_year,
        "analysis_date": datetime.now().isoformat(),
        "total_municipalities": len(combined_df),
        "states_included": config.amazon_states
    },
    "data_summary": {
        "total_population": int(combined_df['population'].sum()),
        "avg_municipality_population": int(combined_df['population'].mean()),
        "largest_municipality": {
            "name": combined_df.loc[combined_df['population'].idxmax(), 'name_muni'],
            "state": combined_df.loc[combined_df['population'].idxmax(), 'abbrev_state'],
            "population": int(combined_df['population'].max())
        },
        "infrastructure_averages": {
            "water_access": round(combined_df['water_access_pct'].mean(), 1),
            "sewage_access": round(combined_df['sewage_access_pct'].mean(), 1),
            "electricity_access": round(combined_df['electricity_access_pct'].mean(), 1)
        }
    },
    "files_created": [
        "data/raw/census/amazon_municipalities.csv",
        "data/raw/census/amazon_population_2022.csv", 
        "data/raw/census/amazon_households_2022.csv",
        "data/processed/amazon_census_combined_2022.csv",
        "data/processed/amazon_census_overview.png"
    ]
}

# Save project summary
with open("data/amazon_census_project_summary.json", 'w') as f:
    json.dump(summary_dict, f, indent=2, ensure_ascii=False)

print("✅ Project summary saved")
print("\n" + "="*60)
print("🎯 AMAZON CENSUS DATA COLLECTION COMPLETE")
print("="*60)
print(f"📊 Analyzed {summary_dict['data_summary']['total_population']:,} people")
print(f"🏛️ Across {summary_dict['project_info']['total_municipalities']} municipalities") 
print(f"🌿 In {len(config.amazon_states)} Amazon states")
print("="*60)
