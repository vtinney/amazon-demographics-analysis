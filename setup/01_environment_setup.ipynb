{
 "cells": [
  {
   "cell_type": "markdown",
   "metadata": {},
   "source": [
    "# 01 Environment Setup\n",
    "\n",
    "**Purpose**: Set up R environment in Google Colab for Brazilian Amazon demographics analysis.\n",
    "\n",
    "**Time Required**: 30-45 minutes\n",
    "\n",
    "---"
   ]
  },
  {
   "cell_type": "code",
   "execution_count": null,
   "metadata": {},
   "outputs": [],
   "source": [
    "# Install essential R packages\n",
    "packages_to_install <- c(\n",
    "  \"censobr\",      # Brazilian census data\n",
    "  \"geobr\",        # Brazilian geographic boundaries\n",
    "  \"sf\",           # Spatial data handling\n",
    "  \"dplyr\",        # Data manipulation\n",
    "  \"readr\",        # Reading CSV files\n",
    "  \"ggplot2\",      # Creating plots\n",
    "  \"leaflet\"       # Interactive maps\n",
    ")\n",
    "\n",
    "cat(\"📦 Installing packages...\\n\")\n",
    "install.packages(packages_to_install, dependencies = TRUE)\n",
    "cat(\"✅ Package installation complete!\\n\")"
   ]
  },
  {
   "cell_type": "code",
   "execution_count": null,
   "metadata": {},
   "outputs": [],
   "source": [
    "# Load essential libraries\n",
    "library(censobr)\n",
    "library(geobr)\n",
    "library(sf)\n",
    "library(dplyr)\n",
    "library(readr)\n",
    "library(ggplot2)\n",
    "library(leaflet)\n",
    "\n",
    "cat(\"📚 Libraries loaded successfully!\\n\")"
   ]
  },
  {
   "cell_type": "code",
   "execution_count": null,
   "metadata": {},
   "outputs": [],
   "source": [
    "# Create directory structure\n",
    "folders <- c(\n",
    "  'data/raw/census',\n",
    "  'data/raw/trajetorias',\n",
    "  'data/raw/fire',\n",
    "  'data/processed',\n",
    "  'outputs/maps',\n",
    "  'outputs/figures',\n",
    "  'outputs/tables'\n",
    ")\n",
    "\n",
    "for (folder in folders) {\n",
    "  dir.create(folder, recursive = TRUE, showWarnings = FALSE)\n",
    "  cat(\"📁 Created:\", folder, \"\\n\")\n",
    "}\n",
    "\n",
    "cat(\"\\n✅ Setup complete! Ready for data collection.\\n\")"
   ]
  }
 ],
 "metadata": {
  "kernelspec": {
   "display_name": "R",
   "language": "R",
   "name": "ir"
  },
  "language_info": {
   "name": "R"
  }
 },
 "nbformat": 4,
 "nbformat_minor": 4
}
